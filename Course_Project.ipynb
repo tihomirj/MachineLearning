{
 "cells": [
  {
   "cell_type": "code",
   "execution_count": 118,
   "metadata": {},
   "outputs": [],
   "source": [
    "%matplotlib inline"
   ]
  },
  {
   "cell_type": "code",
   "execution_count": 119,
   "metadata": {},
   "outputs": [],
   "source": [
    "import numpy as np\n",
    "import pandas as pd\n",
    "import matplotlib.pyplot as plt\n",
    "import seaborn as sns\n",
    "np.random.seed(24680)"
   ]
  },
  {
   "cell_type": "code",
   "execution_count": 120,
   "metadata": {},
   "outputs": [],
   "source": [
    "from sklearn import preprocessing\n",
    "from sklearn.model_selection import train_test_split, KFold, GridSearchCV, cross_val_score\n",
    "from sklearn.metrics import confusion_matrix, classification_report\n",
    "\n",
    "from sklearn.externals.joblib import dump, load\n",
    "\n",
    "from sklearn.preprocessing import MinMaxScaler\n",
    "from sklearn.decomposition import PCA\n",
    "from sklearn.neighbors import KNeighborsClassifier\n",
    "\n",
    "from time import time\n",
    "\n",
    "from sklearn.linear_model import LogisticRegression\n",
    "from sklearn.tree import DecisionTreeClassifier\n",
    "from sklearn.ensemble import RandomForestClassifier, AdaBoostClassifier\n",
    "from sklearn.svm import LinearSVC, SVC"
   ]
  },
  {
   "cell_type": "markdown",
   "metadata": {},
   "source": [
    "# Recognition of handwritten digits with Scikit-Learn"
   ]
  },
  {
   "cell_type": "markdown",
   "metadata": {},
   "source": [
    "##  A classification example using PCA, K-Nearest Neighbors, Logistic Regression and SVM"
   ]
  },
  {
   "cell_type": "markdown",
   "metadata": {},
   "source": [
    "### Author: Tihomir Jilevski - user name: tihomirj - e-mail: tihomirj@gmail.com¶"
   ]
  },
  {
   "cell_type": "markdown",
   "metadata": {},
   "source": [
    "### Abstact\n",
    "In this paper we will investigate how well several popular machine learning algorithms process multidimensional data. We perform Principal Component Analysis on the features to reduce the dimensionality and to speed up the training of the models. In this case the PCA is used as a feature engineering technique to reduce the dimensionality thus facilitating the Gaussian SVM algorithm to apply its \"trick\" and do the job of classifying the handwritten digits.\n",
    "\n",
    "We will see that the best model in terms of accuracy on the test dataset is the Gaussian SVM with **98%**   although rather slow to train. Not very far behind with an accuracy on the test set of **97%** is the K-Nearest Neighbors which is much faster to train. Logistic Regression is the fastest to train but only reaches **90%** accuracy. The remaining algorithms (Decision Tree, Random Forrest, AdaBoost and LinearSVC) did worse on the accuracy cross validation metrics. The best result on the official MNIST site (http://yann.lecun.com/exdb/mnist/index.html) shows an error of **0.23%**. So, we have not reached the accuracy of **99.77%** but we are pretty close.\n"
   ]
  },
  {
   "cell_type": "markdown",
   "metadata": {},
   "source": [
    "### Work flow\n",
    "1. We will separate the features from the labels\n",
    "2. In the second place, we will scale the features so that we can apply the PCA\n",
    "3. We perform the PCA\n",
    "4. We split the dataset in 2 parts - **training** and **test** subsets.\n",
    "5. We use the **training** set to evaluate the *mean cross validation accuracy score* of several algorithms to select the three best performing. We test `Decision Trees`, `Random Forrests`, `AdaBoost`, `Logistic Regression`, `Linear SVM`, `Gaussian SVM`, `K-Nearest Neighbors`. We select the three with the highest mean cross validation accuracy score.\n",
    "6. We perform grid search on the three short listed algorithms in order to improve them.\n",
    "7. We test the fine-tuned models on the **test** set.\n",
    "8. We save the trained models as files for future fiddling and also save an excel file with some important parameters of the three models which allows for subsequent analyses and hopefully - optimization.\n",
    "9. We evaluate the performance of the best algorithm using different number of features and redoing all the grid search again. That is, we perform PCA to arrive at explained variance 60%, 70%, 80%, 90% and 95% thus obtaining different features. We re-train via grid search the best algorithm with the different features to find the best feature set that leads to highest accuracy without falling into the trap of overfitting."
   ]
  },
  {
   "cell_type": "markdown",
   "metadata": {},
   "source": [
    "### Defining helper functions\n",
    "We start by defining some functions that will be frequently used. \n",
    "\n",
    "We will define a helper function `fit_model` that will perform a grid search on our models and will return a dictionary with the following information:\n",
    "\n",
    "* `model` - contains the name of the algorithm\n",
    "* `number_features_training` - contains the number of the features in the current model\n",
    "* `explained_variance_after_pca` - shows the explained variance after the dimensionality reduction done by PCA\n",
    "* `best_estimator` - contains the best model that results from the grid search,\n",
    "* `best_params` - contains the best hyper parameters that produced the highest metrics (in our case \"accuracy\"),\n",
    "* `best_score` -  contains the best accuracy score,\n",
    "* `time_sec` - contains the time for performing the grid search\n",
    "\n",
    "This dictionary is then added to a list `models` where we will collect the above information for each algorithm. At the end we will produce a data frame out of the list `models` and we will save it as an Excel file. The latter is done by the helper function `persist_data` which also saves the model.\n",
    "\n",
    "We also define some plotting functions that will help us visualize the digits and the confusion matrix in a friendlier way."
   ]
  },
  {
   "cell_type": "code",
   "execution_count": 4,
   "metadata": {},
   "outputs": [],
   "source": [
    "# performs grid search on the model\n",
    "def fit_model(model, parameters_grid, k_fold):   \n",
    "    t0 = time()    \n",
    "    grid_search = GridSearchCV(model, parameters_grid, n_jobs = 1,scoring = 'accuracy', cv = k_fold)\n",
    "    grid_search.fit(X_tr, y_tr)\n",
    "    t1 = time()-t0\n",
    "    \n",
    "    return{\"model\":model.__class__.__name__,\n",
    "           \"number_of_observations_training\":X_tr.shape[0],\n",
    "           \"number_features_training\":X_tr.shape[1],\n",
    "           \"explained_variance_after_pca\":explained_variance,\n",
    "           \"best_estimator\":grid_search.best_estimator_,\n",
    "           \"best_params\": grid_search.best_params_,\n",
    "           \"best_score\": grid_search.best_score_,\n",
    "           \"time_sec\": t1}"
   ]
  },
  {
   "cell_type": "code",
   "execution_count": 5,
   "metadata": {},
   "outputs": [],
   "source": [
    "# saves model on the disc and best model parameters in Excel\n",
    "def persist_data(models, model_fit):\n",
    "    #save to disc model\n",
    "    filename = model_fit['model']+\".sav\"\n",
    "    dump(model_fit,filename)\n",
    "    models.append(model_fit)\n",
    "    model_df = pd.DataFrame.from_dict(models)\n",
    "    writer = pd.ExcelWriter(\"output.xlsx\")\n",
    "    model_df.to_excel(writer,'Sheet1')\n",
    "    writer.save()"
   ]
  },
  {
   "cell_type": "code",
   "execution_count": 6,
   "metadata": {},
   "outputs": [],
   "source": [
    "# plots the confusion matrix\n",
    "def draw_confusion_marix(y_ts, predictions, score):\n",
    "    cm = confusion_matrix(y_ts, predictions)\n",
    "    plt.figure(figsize=(9,9))\n",
    "    sns.heatmap(cm, annot=True, fmt=\"\", linewidths=.5, square = True, cmap = 'Blues_r');\n",
    "    plt.ylabel('Actual label');\n",
    "    plt.xlabel('Predicted label');\n",
    "    all_sample_title = 'Accuracy Score: {0:.3%}'.format(score)\n",
    "    plt.title(all_sample_title, size = 15);"
   ]
  },
  {
   "cell_type": "code",
   "execution_count": 7,
   "metadata": {},
   "outputs": [],
   "source": [
    "# Plots the image represented by a row\n",
    "def plot_number(row, w=28, h=28, labels=True):\n",
    "    if labels:\n",
    "        # the first column contains the label\n",
    "        label = row[0]\n",
    "        # The rest of columns are pixels\n",
    "        pixels = row[1:]\n",
    "    else:\n",
    "        label = ''\n",
    "        # The rest of columns are pixels\n",
    "        pixels = row[0:]\n",
    "    \n",
    "#    print(row.shape, pixels.shape)\n",
    "        \n",
    "\n",
    "    # Make those columns into a array of 8-bits pixels\n",
    "    # This array will be of 1D with length 784\n",
    "    # The pixel intensity values are integers from 0 to 255\n",
    "    pixels = 255-np.array(pixels, dtype='uint8')\n",
    "\n",
    "    # Reshape the array into 28 x 28 array (2-dimensional array)\n",
    "    pixels = pixels.reshape((w, h))\n",
    "\n",
    "    # Plot\n",
    "    if labels:\n",
    "        plt.title('Label is {label}'.format(label=label))\n",
    "    plt.imshow(pixels, cmap='gray')\n",
    "\n",
    "# Plots a whole slice of pictures\n",
    "def plot_slice(rows, size_w=28, size_h=28, labels=True):\n",
    "    num = rows.shape[0]\n",
    "    w = 4\n",
    "    h = np.ceil(num / w).astype(int)\n",
    "    fig, plots = plt.subplots(h, w)\n",
    "    fig.tight_layout()\n",
    "\n",
    "    for n in range(0, num):\n",
    "        s = plt.subplot(h, w, n+1)\n",
    "        s.set_xticks(())\n",
    "        s.set_yticks(())\n",
    "        plot_number(rows.loc[n], size_w, size_h, labels)\n",
    "    plt.show()"
   ]
  },
  {
   "cell_type": "markdown",
   "metadata": {},
   "source": [
    "### Dataset"
   ]
  },
  {
   "cell_type": "markdown",
   "metadata": {},
   "source": [
    "\n",
    "We will be using the the MNIST dataset from Kaggle (https://www.kaggle.com/c/digit-recognizer/data). The original MNIST database of handwritten digits, has a training set of 60,000 examples, and a test set of 10,000 examples. It is a subset of a larger set available from NIST. The digits have been size-normalized and centered in a fixed-size image. The original MNIST database of handwritten digits is available on the following website: http://yann.lecun.com/exdb/mnist/\n",
    "\n",
    "\n",
    "The Kaggle dataset contains two files - `train.csv` and `test.csv` - both of them contain gray-scale images of hand-drawn digits, from zero through nine. \n",
    "\n",
    "* **Each image is 28 pixels in height and 28 pixels in width, which is 784 pixels in total.** \n",
    "* **Each pixel has a single pixel-value associated with it, indicating the lightness or darkness of that pixel, with higher numbers meaning darker. This pixel-value is an integer between 0 and 255, inclusive.**\n",
    "\n",
    "The training data set, (**train.csv**), has **785 columns**. The first column, called \"label\", is the digit that was drawn by the user. The rest of the columns contain the pixel-values of the associated image. The file contains **42000 observations**. We are using only this file.\n",
    "\n",
    "Each pixel column in the training set has a name like pixelx, where x is an integer between 0 and 783, inclusive. To locate this pixel on the image, suppose that we have decomposed x as x = i * 28 + j, where i and j are integers between 0 and 27, inclusive. Then pixelx is located on row i and column j of a 28 x 28 matrix, (indexing by zero).\n",
    "\n",
    "For example, pixel31 indicates the pixel that is in the fourth column from the left, and the second row from the top.\n",
    "\n",
    "The test data set, (**test.csv**), is the same as the training set, except that it does not contain the \"label\" column. This test dataset is for the Kaggle competition and we will not be using it.\n",
    "\n",
    "Download from here https://www.kaggle.com/c/digit-recognizer/download/train.csv  and put in the sub folder `data/`"
   ]
  },
  {
   "cell_type": "markdown",
   "metadata": {},
   "source": [
    "### Loading the data"
   ]
  },
  {
   "cell_type": "code",
   "execution_count": 123,
   "metadata": {},
   "outputs": [
    {
     "name": "stdout",
     "output_type": "stream",
     "text": [
      "Data successfully loaded.\n",
      "Number of observations: 42000\n",
      "Number of columns: 785\n"
     ]
    }
   ],
   "source": [
    "data = pd.read_csv('data/train.csv')\n",
    "if data.shape[1]==785 and data.shape[0]==42000:\n",
    "    print(\"Data successfully loaded.\")\n",
    "    print(\"Number of observations: {0}\".format(data.shape[0]))\n",
    "    print(\"Number of columns: {0}\".format(data.shape[1]))\n",
    "else:\n",
    "    print(\"An error occurred. Some data are missing\")"
   ]
  },
  {
   "cell_type": "code",
   "execution_count": 9,
   "metadata": {},
   "outputs": [
    {
     "data": {
      "text/html": [
       "<div>\n",
       "<style scoped>\n",
       "    .dataframe tbody tr th:only-of-type {\n",
       "        vertical-align: middle;\n",
       "    }\n",
       "\n",
       "    .dataframe tbody tr th {\n",
       "        vertical-align: top;\n",
       "    }\n",
       "\n",
       "    .dataframe thead th {\n",
       "        text-align: right;\n",
       "    }\n",
       "</style>\n",
       "<table border=\"1\" class=\"dataframe\">\n",
       "  <thead>\n",
       "    <tr style=\"text-align: right;\">\n",
       "      <th></th>\n",
       "      <th>label</th>\n",
       "      <th>pixel0</th>\n",
       "      <th>pixel1</th>\n",
       "      <th>pixel2</th>\n",
       "      <th>pixel3</th>\n",
       "      <th>pixel4</th>\n",
       "      <th>pixel5</th>\n",
       "      <th>pixel6</th>\n",
       "      <th>pixel7</th>\n",
       "      <th>pixel8</th>\n",
       "      <th>...</th>\n",
       "      <th>pixel774</th>\n",
       "      <th>pixel775</th>\n",
       "      <th>pixel776</th>\n",
       "      <th>pixel777</th>\n",
       "      <th>pixel778</th>\n",
       "      <th>pixel779</th>\n",
       "      <th>pixel780</th>\n",
       "      <th>pixel781</th>\n",
       "      <th>pixel782</th>\n",
       "      <th>pixel783</th>\n",
       "    </tr>\n",
       "  </thead>\n",
       "  <tbody>\n",
       "    <tr>\n",
       "      <th>0</th>\n",
       "      <td>1</td>\n",
       "      <td>0</td>\n",
       "      <td>0</td>\n",
       "      <td>0</td>\n",
       "      <td>0</td>\n",
       "      <td>0</td>\n",
       "      <td>0</td>\n",
       "      <td>0</td>\n",
       "      <td>0</td>\n",
       "      <td>0</td>\n",
       "      <td>...</td>\n",
       "      <td>0</td>\n",
       "      <td>0</td>\n",
       "      <td>0</td>\n",
       "      <td>0</td>\n",
       "      <td>0</td>\n",
       "      <td>0</td>\n",
       "      <td>0</td>\n",
       "      <td>0</td>\n",
       "      <td>0</td>\n",
       "      <td>0</td>\n",
       "    </tr>\n",
       "    <tr>\n",
       "      <th>1</th>\n",
       "      <td>0</td>\n",
       "      <td>0</td>\n",
       "      <td>0</td>\n",
       "      <td>0</td>\n",
       "      <td>0</td>\n",
       "      <td>0</td>\n",
       "      <td>0</td>\n",
       "      <td>0</td>\n",
       "      <td>0</td>\n",
       "      <td>0</td>\n",
       "      <td>...</td>\n",
       "      <td>0</td>\n",
       "      <td>0</td>\n",
       "      <td>0</td>\n",
       "      <td>0</td>\n",
       "      <td>0</td>\n",
       "      <td>0</td>\n",
       "      <td>0</td>\n",
       "      <td>0</td>\n",
       "      <td>0</td>\n",
       "      <td>0</td>\n",
       "    </tr>\n",
       "    <tr>\n",
       "      <th>2</th>\n",
       "      <td>1</td>\n",
       "      <td>0</td>\n",
       "      <td>0</td>\n",
       "      <td>0</td>\n",
       "      <td>0</td>\n",
       "      <td>0</td>\n",
       "      <td>0</td>\n",
       "      <td>0</td>\n",
       "      <td>0</td>\n",
       "      <td>0</td>\n",
       "      <td>...</td>\n",
       "      <td>0</td>\n",
       "      <td>0</td>\n",
       "      <td>0</td>\n",
       "      <td>0</td>\n",
       "      <td>0</td>\n",
       "      <td>0</td>\n",
       "      <td>0</td>\n",
       "      <td>0</td>\n",
       "      <td>0</td>\n",
       "      <td>0</td>\n",
       "    </tr>\n",
       "    <tr>\n",
       "      <th>3</th>\n",
       "      <td>4</td>\n",
       "      <td>0</td>\n",
       "      <td>0</td>\n",
       "      <td>0</td>\n",
       "      <td>0</td>\n",
       "      <td>0</td>\n",
       "      <td>0</td>\n",
       "      <td>0</td>\n",
       "      <td>0</td>\n",
       "      <td>0</td>\n",
       "      <td>...</td>\n",
       "      <td>0</td>\n",
       "      <td>0</td>\n",
       "      <td>0</td>\n",
       "      <td>0</td>\n",
       "      <td>0</td>\n",
       "      <td>0</td>\n",
       "      <td>0</td>\n",
       "      <td>0</td>\n",
       "      <td>0</td>\n",
       "      <td>0</td>\n",
       "    </tr>\n",
       "    <tr>\n",
       "      <th>4</th>\n",
       "      <td>0</td>\n",
       "      <td>0</td>\n",
       "      <td>0</td>\n",
       "      <td>0</td>\n",
       "      <td>0</td>\n",
       "      <td>0</td>\n",
       "      <td>0</td>\n",
       "      <td>0</td>\n",
       "      <td>0</td>\n",
       "      <td>0</td>\n",
       "      <td>...</td>\n",
       "      <td>0</td>\n",
       "      <td>0</td>\n",
       "      <td>0</td>\n",
       "      <td>0</td>\n",
       "      <td>0</td>\n",
       "      <td>0</td>\n",
       "      <td>0</td>\n",
       "      <td>0</td>\n",
       "      <td>0</td>\n",
       "      <td>0</td>\n",
       "    </tr>\n",
       "  </tbody>\n",
       "</table>\n",
       "<p>5 rows × 785 columns</p>\n",
       "</div>"
      ],
      "text/plain": [
       "   label  pixel0  pixel1  pixel2  pixel3  pixel4  pixel5  pixel6  pixel7  \\\n",
       "0      1       0       0       0       0       0       0       0       0   \n",
       "1      0       0       0       0       0       0       0       0       0   \n",
       "2      1       0       0       0       0       0       0       0       0   \n",
       "3      4       0       0       0       0       0       0       0       0   \n",
       "4      0       0       0       0       0       0       0       0       0   \n",
       "\n",
       "   pixel8    ...     pixel774  pixel775  pixel776  pixel777  pixel778  \\\n",
       "0       0    ...            0         0         0         0         0   \n",
       "1       0    ...            0         0         0         0         0   \n",
       "2       0    ...            0         0         0         0         0   \n",
       "3       0    ...            0         0         0         0         0   \n",
       "4       0    ...            0         0         0         0         0   \n",
       "\n",
       "   pixel779  pixel780  pixel781  pixel782  pixel783  \n",
       "0         0         0         0         0         0  \n",
       "1         0         0         0         0         0  \n",
       "2         0         0         0         0         0  \n",
       "3         0         0         0         0         0  \n",
       "4         0         0         0         0         0  \n",
       "\n",
       "[5 rows x 785 columns]"
      ]
     },
     "execution_count": 9,
     "metadata": {},
     "output_type": "execute_result"
    }
   ],
   "source": [
    "data.head(5)"
   ]
  },
  {
   "cell_type": "code",
   "execution_count": 10,
   "metadata": {},
   "outputs": [
    {
     "data": {
      "text/html": [
       "<div>\n",
       "<style scoped>\n",
       "    .dataframe tbody tr th:only-of-type {\n",
       "        vertical-align: middle;\n",
       "    }\n",
       "\n",
       "    .dataframe tbody tr th {\n",
       "        vertical-align: top;\n",
       "    }\n",
       "\n",
       "    .dataframe thead th {\n",
       "        text-align: right;\n",
       "    }\n",
       "</style>\n",
       "<table border=\"1\" class=\"dataframe\">\n",
       "  <thead>\n",
       "    <tr style=\"text-align: right;\">\n",
       "      <th></th>\n",
       "      <th>label</th>\n",
       "      <th>pixel0</th>\n",
       "      <th>pixel1</th>\n",
       "      <th>pixel2</th>\n",
       "      <th>pixel3</th>\n",
       "      <th>pixel4</th>\n",
       "      <th>pixel5</th>\n",
       "      <th>pixel6</th>\n",
       "      <th>pixel7</th>\n",
       "      <th>pixel8</th>\n",
       "      <th>...</th>\n",
       "      <th>pixel774</th>\n",
       "      <th>pixel775</th>\n",
       "      <th>pixel776</th>\n",
       "      <th>pixel777</th>\n",
       "      <th>pixel778</th>\n",
       "      <th>pixel779</th>\n",
       "      <th>pixel780</th>\n",
       "      <th>pixel781</th>\n",
       "      <th>pixel782</th>\n",
       "      <th>pixel783</th>\n",
       "    </tr>\n",
       "  </thead>\n",
       "  <tbody>\n",
       "    <tr>\n",
       "      <th>count</th>\n",
       "      <td>42000.000000</td>\n",
       "      <td>42000.0</td>\n",
       "      <td>42000.0</td>\n",
       "      <td>42000.0</td>\n",
       "      <td>42000.0</td>\n",
       "      <td>42000.0</td>\n",
       "      <td>42000.0</td>\n",
       "      <td>42000.0</td>\n",
       "      <td>42000.0</td>\n",
       "      <td>42000.0</td>\n",
       "      <td>...</td>\n",
       "      <td>42000.000000</td>\n",
       "      <td>42000.000000</td>\n",
       "      <td>42000.000000</td>\n",
       "      <td>42000.00000</td>\n",
       "      <td>42000.000000</td>\n",
       "      <td>42000.000000</td>\n",
       "      <td>42000.0</td>\n",
       "      <td>42000.0</td>\n",
       "      <td>42000.0</td>\n",
       "      <td>42000.0</td>\n",
       "    </tr>\n",
       "    <tr>\n",
       "      <th>mean</th>\n",
       "      <td>4.456643</td>\n",
       "      <td>0.0</td>\n",
       "      <td>0.0</td>\n",
       "      <td>0.0</td>\n",
       "      <td>0.0</td>\n",
       "      <td>0.0</td>\n",
       "      <td>0.0</td>\n",
       "      <td>0.0</td>\n",
       "      <td>0.0</td>\n",
       "      <td>0.0</td>\n",
       "      <td>...</td>\n",
       "      <td>0.219286</td>\n",
       "      <td>0.117095</td>\n",
       "      <td>0.059024</td>\n",
       "      <td>0.02019</td>\n",
       "      <td>0.017238</td>\n",
       "      <td>0.002857</td>\n",
       "      <td>0.0</td>\n",
       "      <td>0.0</td>\n",
       "      <td>0.0</td>\n",
       "      <td>0.0</td>\n",
       "    </tr>\n",
       "    <tr>\n",
       "      <th>std</th>\n",
       "      <td>2.887730</td>\n",
       "      <td>0.0</td>\n",
       "      <td>0.0</td>\n",
       "      <td>0.0</td>\n",
       "      <td>0.0</td>\n",
       "      <td>0.0</td>\n",
       "      <td>0.0</td>\n",
       "      <td>0.0</td>\n",
       "      <td>0.0</td>\n",
       "      <td>0.0</td>\n",
       "      <td>...</td>\n",
       "      <td>6.312890</td>\n",
       "      <td>4.633819</td>\n",
       "      <td>3.274488</td>\n",
       "      <td>1.75987</td>\n",
       "      <td>1.894498</td>\n",
       "      <td>0.414264</td>\n",
       "      <td>0.0</td>\n",
       "      <td>0.0</td>\n",
       "      <td>0.0</td>\n",
       "      <td>0.0</td>\n",
       "    </tr>\n",
       "    <tr>\n",
       "      <th>min</th>\n",
       "      <td>0.000000</td>\n",
       "      <td>0.0</td>\n",
       "      <td>0.0</td>\n",
       "      <td>0.0</td>\n",
       "      <td>0.0</td>\n",
       "      <td>0.0</td>\n",
       "      <td>0.0</td>\n",
       "      <td>0.0</td>\n",
       "      <td>0.0</td>\n",
       "      <td>0.0</td>\n",
       "      <td>...</td>\n",
       "      <td>0.000000</td>\n",
       "      <td>0.000000</td>\n",
       "      <td>0.000000</td>\n",
       "      <td>0.00000</td>\n",
       "      <td>0.000000</td>\n",
       "      <td>0.000000</td>\n",
       "      <td>0.0</td>\n",
       "      <td>0.0</td>\n",
       "      <td>0.0</td>\n",
       "      <td>0.0</td>\n",
       "    </tr>\n",
       "    <tr>\n",
       "      <th>25%</th>\n",
       "      <td>2.000000</td>\n",
       "      <td>0.0</td>\n",
       "      <td>0.0</td>\n",
       "      <td>0.0</td>\n",
       "      <td>0.0</td>\n",
       "      <td>0.0</td>\n",
       "      <td>0.0</td>\n",
       "      <td>0.0</td>\n",
       "      <td>0.0</td>\n",
       "      <td>0.0</td>\n",
       "      <td>...</td>\n",
       "      <td>0.000000</td>\n",
       "      <td>0.000000</td>\n",
       "      <td>0.000000</td>\n",
       "      <td>0.00000</td>\n",
       "      <td>0.000000</td>\n",
       "      <td>0.000000</td>\n",
       "      <td>0.0</td>\n",
       "      <td>0.0</td>\n",
       "      <td>0.0</td>\n",
       "      <td>0.0</td>\n",
       "    </tr>\n",
       "    <tr>\n",
       "      <th>50%</th>\n",
       "      <td>4.000000</td>\n",
       "      <td>0.0</td>\n",
       "      <td>0.0</td>\n",
       "      <td>0.0</td>\n",
       "      <td>0.0</td>\n",
       "      <td>0.0</td>\n",
       "      <td>0.0</td>\n",
       "      <td>0.0</td>\n",
       "      <td>0.0</td>\n",
       "      <td>0.0</td>\n",
       "      <td>...</td>\n",
       "      <td>0.000000</td>\n",
       "      <td>0.000000</td>\n",
       "      <td>0.000000</td>\n",
       "      <td>0.00000</td>\n",
       "      <td>0.000000</td>\n",
       "      <td>0.000000</td>\n",
       "      <td>0.0</td>\n",
       "      <td>0.0</td>\n",
       "      <td>0.0</td>\n",
       "      <td>0.0</td>\n",
       "    </tr>\n",
       "    <tr>\n",
       "      <th>75%</th>\n",
       "      <td>7.000000</td>\n",
       "      <td>0.0</td>\n",
       "      <td>0.0</td>\n",
       "      <td>0.0</td>\n",
       "      <td>0.0</td>\n",
       "      <td>0.0</td>\n",
       "      <td>0.0</td>\n",
       "      <td>0.0</td>\n",
       "      <td>0.0</td>\n",
       "      <td>0.0</td>\n",
       "      <td>...</td>\n",
       "      <td>0.000000</td>\n",
       "      <td>0.000000</td>\n",
       "      <td>0.000000</td>\n",
       "      <td>0.00000</td>\n",
       "      <td>0.000000</td>\n",
       "      <td>0.000000</td>\n",
       "      <td>0.0</td>\n",
       "      <td>0.0</td>\n",
       "      <td>0.0</td>\n",
       "      <td>0.0</td>\n",
       "    </tr>\n",
       "    <tr>\n",
       "      <th>max</th>\n",
       "      <td>9.000000</td>\n",
       "      <td>0.0</td>\n",
       "      <td>0.0</td>\n",
       "      <td>0.0</td>\n",
       "      <td>0.0</td>\n",
       "      <td>0.0</td>\n",
       "      <td>0.0</td>\n",
       "      <td>0.0</td>\n",
       "      <td>0.0</td>\n",
       "      <td>0.0</td>\n",
       "      <td>...</td>\n",
       "      <td>254.000000</td>\n",
       "      <td>254.000000</td>\n",
       "      <td>253.000000</td>\n",
       "      <td>253.00000</td>\n",
       "      <td>254.000000</td>\n",
       "      <td>62.000000</td>\n",
       "      <td>0.0</td>\n",
       "      <td>0.0</td>\n",
       "      <td>0.0</td>\n",
       "      <td>0.0</td>\n",
       "    </tr>\n",
       "  </tbody>\n",
       "</table>\n",
       "<p>8 rows × 785 columns</p>\n",
       "</div>"
      ],
      "text/plain": [
       "              label   pixel0   pixel1   pixel2   pixel3   pixel4   pixel5  \\\n",
       "count  42000.000000  42000.0  42000.0  42000.0  42000.0  42000.0  42000.0   \n",
       "mean       4.456643      0.0      0.0      0.0      0.0      0.0      0.0   \n",
       "std        2.887730      0.0      0.0      0.0      0.0      0.0      0.0   \n",
       "min        0.000000      0.0      0.0      0.0      0.0      0.0      0.0   \n",
       "25%        2.000000      0.0      0.0      0.0      0.0      0.0      0.0   \n",
       "50%        4.000000      0.0      0.0      0.0      0.0      0.0      0.0   \n",
       "75%        7.000000      0.0      0.0      0.0      0.0      0.0      0.0   \n",
       "max        9.000000      0.0      0.0      0.0      0.0      0.0      0.0   \n",
       "\n",
       "        pixel6   pixel7   pixel8    ...         pixel774      pixel775  \\\n",
       "count  42000.0  42000.0  42000.0    ...     42000.000000  42000.000000   \n",
       "mean       0.0      0.0      0.0    ...         0.219286      0.117095   \n",
       "std        0.0      0.0      0.0    ...         6.312890      4.633819   \n",
       "min        0.0      0.0      0.0    ...         0.000000      0.000000   \n",
       "25%        0.0      0.0      0.0    ...         0.000000      0.000000   \n",
       "50%        0.0      0.0      0.0    ...         0.000000      0.000000   \n",
       "75%        0.0      0.0      0.0    ...         0.000000      0.000000   \n",
       "max        0.0      0.0      0.0    ...       254.000000    254.000000   \n",
       "\n",
       "           pixel776     pixel777      pixel778      pixel779  pixel780  \\\n",
       "count  42000.000000  42000.00000  42000.000000  42000.000000   42000.0   \n",
       "mean       0.059024      0.02019      0.017238      0.002857       0.0   \n",
       "std        3.274488      1.75987      1.894498      0.414264       0.0   \n",
       "min        0.000000      0.00000      0.000000      0.000000       0.0   \n",
       "25%        0.000000      0.00000      0.000000      0.000000       0.0   \n",
       "50%        0.000000      0.00000      0.000000      0.000000       0.0   \n",
       "75%        0.000000      0.00000      0.000000      0.000000       0.0   \n",
       "max      253.000000    253.00000    254.000000     62.000000       0.0   \n",
       "\n",
       "       pixel781  pixel782  pixel783  \n",
       "count   42000.0   42000.0   42000.0  \n",
       "mean        0.0       0.0       0.0  \n",
       "std         0.0       0.0       0.0  \n",
       "min         0.0       0.0       0.0  \n",
       "25%         0.0       0.0       0.0  \n",
       "50%         0.0       0.0       0.0  \n",
       "75%         0.0       0.0       0.0  \n",
       "max         0.0       0.0       0.0  \n",
       "\n",
       "[8 rows x 785 columns]"
      ]
     },
     "execution_count": 10,
     "metadata": {},
     "output_type": "execute_result"
    }
   ],
   "source": [
    "data.describe()"
   ]
  },
  {
   "cell_type": "markdown",
   "metadata": {},
   "source": [
    "### Showing some data\n",
    "\n",
    "Lets us see some of the images."
   ]
  },
  {
   "cell_type": "code",
   "execution_count": 11,
   "metadata": {},
   "outputs": [
    {
     "data": {
      "image/png": "[encoded data removed]",
      "text/plain": [
       "<Figure size 432x288 with 16 Axes>"
      ]
     },
     "metadata": {},
     "output_type": "display_data"
    }
   ],
   "source": [
    "plot_slice(data[0:16])"
   ]
  },
  {
   "cell_type": "markdown",
   "metadata": {},
   "source": [
    "### Split the whole dataset in features and labels\n"
   ]
  },
  {
   "cell_type": "code",
   "execution_count": 12,
   "metadata": {},
   "outputs": [
    {
     "data": {
      "text/plain": [
       "(42000, 784)"
      ]
     },
     "execution_count": 12,
     "metadata": {},
     "output_type": "execute_result"
    }
   ],
   "source": [
    "features = data.drop(['label'], axis='columns', inplace=False)\n",
    "features.shape"
   ]
  },
  {
   "cell_type": "code",
   "execution_count": 13,
   "metadata": {},
   "outputs": [
    {
     "data": {
      "text/plain": [
       "(42000,)"
      ]
     },
     "execution_count": 13,
     "metadata": {},
     "output_type": "execute_result"
    }
   ],
   "source": [
    "labels = data['label']\n",
    "labels.shape"
   ]
  },
  {
   "cell_type": "code",
   "execution_count": 14,
   "metadata": {},
   "outputs": [
    {
     "data": {
      "text/plain": [
       "array([1, 0, 4, 7, 3, 5, 8, 9, 2, 6], dtype=int64)"
      ]
     },
     "execution_count": 14,
     "metadata": {},
     "output_type": "execute_result"
    }
   ],
   "source": [
    "labels.unique()"
   ]
  },
  {
   "cell_type": "code",
   "execution_count": 15,
   "metadata": {},
   "outputs": [
    {
     "data": {
      "image/png": "[encoded data removed]",
      "text/plain": [
       "<Figure size 432x288 with 1 Axes>"
      ]
     },
     "metadata": {},
     "output_type": "display_data"
    }
   ],
   "source": [
    "sns.countplot(labels)\n",
    "plt.title(\"Distribution of labels\", size = 15);"
   ]
  },
  {
   "cell_type": "markdown",
   "metadata": {},
   "source": [
    "The labels are more or less evenly distributed and represented by a similar number of observations . There are not great disproportions. We can use the accuracy metrics."
   ]
  },
  {
   "cell_type": "markdown",
   "metadata": {},
   "source": [
    "### Metrics to measure the model performance\n",
    "While there are other ways of measuring model performance (precision, recall, F1 Score, ROC Curve, etc), we are going to keep this simple and use **accuracy** as our metric. Accuracy is suitable in this case because the different classes are more or less of similar size and appear to be well balanced. Accuracy is also used in the Kaggle competition, thus we will be able to compare our scores with the other competitors.\n",
    "We will also show the confusion matrix for the actual vs predicted labels and the classification report."
   ]
  },
  {
   "cell_type": "markdown",
   "metadata": {},
   "source": [
    "### Dimensionality reduction\n",
    "Usually dimensionality reduction is used for three main reasons: \n",
    "\n",
    "* help visualize high dimensional data and discover some structures or patterns\n",
    "* select good features and avoid high correlation between some of the features which leads to the next reason -\n",
    "* train models efficiently - lower dimensions and less features translate into shorter training times\n",
    "\n",
    "In this case we will use it to reduce the number of features in order to shorten the training time of the algorithms."
   ]
  },
  {
   "cell_type": "markdown",
   "metadata": {},
   "source": [
    "#### PCA (Principal Components Analysis)\n",
    "PCA is a linear dimension reduction technique that seeks to maximize variance. PCA is affected by scale so we need to scale the features in our data before applying PCA. We are going to use the `MinMaxScaler`. We aim to preserve big part of the variance and at the same time reduce the features. When we later evaluate the models we can return to this step and change the balance between preserved variance and features. \n",
    "\n",
    "As a beginning we decide to preserve the variance to 90% and see the resulting reduction of features. Later we will get back to this step and will test the chosen algorithm at different combinations of explained variance and components/features."
   ]
  },
  {
   "cell_type": "code",
   "execution_count": 16,
   "metadata": {},
   "outputs": [],
   "source": [
    "scaler = MinMaxScaler().fit(features)"
   ]
  },
  {
   "cell_type": "code",
   "execution_count": 17,
   "metadata": {},
   "outputs": [],
   "source": [
    "features_scaled = scaler.transform(features)"
   ]
  },
  {
   "cell_type": "code",
   "execution_count": 18,
   "metadata": {},
   "outputs": [],
   "source": [
    "pca_features = PCA(0.90).fit(features_scaled)"
   ]
  },
  {
   "cell_type": "code",
   "execution_count": 19,
   "metadata": {},
   "outputs": [],
   "source": [
    "features_scaled_pca = pca_features.transform(features_scaled)"
   ]
  },
  {
   "cell_type": "code",
   "execution_count": 20,
   "metadata": {},
   "outputs": [
    {
     "data": {
      "text/plain": [
       "87"
      ]
     },
     "execution_count": 20,
     "metadata": {},
     "output_type": "execute_result"
    }
   ],
   "source": [
    "pca_features.n_components_"
   ]
  },
  {
   "cell_type": "code",
   "execution_count": 21,
   "metadata": {},
   "outputs": [],
   "source": [
    "explained_variance = pca_features.explained_variance_ratio_.sum()"
   ]
  },
  {
   "cell_type": "code",
   "execution_count": 22,
   "metadata": {},
   "outputs": [
    {
     "data": {
      "text/plain": [
       "0.9005709788011418"
      ]
     },
     "execution_count": 22,
     "metadata": {},
     "output_type": "execute_result"
    }
   ],
   "source": [
    "explained_variance"
   ]
  },
  {
   "cell_type": "markdown",
   "metadata": {},
   "source": [
    " We can see that 90% of the variance has been preserved and the dimensions have been reduced to 87. We reduced the features by a factor of 9.\n"
   ]
  },
  {
   "cell_type": "markdown",
   "metadata": {},
   "source": [
    "### Split data to training and test set\n",
    "We split the features set on which we have just performed scaling and PCA to 70% training and 30% test. We split the features simultaneously with the labels.  "
   ]
  },
  {
   "cell_type": "code",
   "execution_count": 23,
   "metadata": {},
   "outputs": [],
   "source": [
    "X_tr, X_ts, y_tr, y_ts = train_test_split(features_scaled_pca, labels, test_size = 0.30)"
   ]
  },
  {
   "cell_type": "code",
   "execution_count": 24,
   "metadata": {},
   "outputs": [
    {
     "name": "stdout",
     "output_type": "stream",
     "text": [
      "Shape of training features: (29400, 87)\n",
      "Shape of testing features: (12600, 87)\n",
      "-------------------------------------------\n",
      "Shape of training labels: (29400,)\n",
      "Shape of testing labels: (12600,)\n"
     ]
    }
   ],
   "source": [
    "print(\"Shape of training features: \"+str(X_tr.shape))\n",
    "print(\"Shape of testing features: \"+str(X_ts.shape))\n",
    "print(\"-------------------------------------------\")\n",
    "print(\"Shape of training labels: \"+str(y_tr.shape))\n",
    "print(\"Shape of testing labels: \"+str(y_ts.shape))"
   ]
  },
  {
   "cell_type": "markdown",
   "metadata": {},
   "source": [
    "The training and testing features and labels appear to have the correct shape."
   ]
  },
  {
   "cell_type": "markdown",
   "metadata": {},
   "source": [
    "We will save the current testing dataset so that we can preserve it exactly the same for future use when we test the score for the saved models that have been trained with the current split of training data. [1](#note)"
   ]
  },
  {
   "cell_type": "code",
   "execution_count": 25,
   "metadata": {},
   "outputs": [
    {
     "data": {
      "text/plain": [
       "['test_set.sav']"
      ]
     },
     "execution_count": 25,
     "metadata": {},
     "output_type": "execute_result"
    }
   ],
   "source": [
    "test_set = {\"X\":X_ts, \"y\":y_ts}\n",
    "dump(test_set,\"test_set-BACKUP.sav\")"
   ]
  },
  {
   "cell_type": "code",
   "execution_count": 25,
   "metadata": {},
   "outputs": [],
   "source": [
    "# Important \n",
    "# Uncomment this if you want to use the original test dataset \n",
    "# together with the already saved models that were trained with the same split\n",
    "# test_set_loaded = load('test_set-BACKUP.sav')\n",
    "# X_ts = test_set_loaded[\"X\"]\n",
    "# y_ts = test_set_loaded[\"y\"]"
   ]
  },
  {
   "cell_type": "markdown",
   "metadata": {},
   "source": [
    "### Algorithm selection\n",
    "Using cross validation with 5 folds on the training set with 'accuracy' as metrics we will select the three best performing algorithms. We will run them with their default settings.The 7 candidates are:\n",
    "\n",
    "* Logistic Regression\n",
    "* K-Nearest Neighbor\n",
    "* Decision Tree\n",
    "* AdaBoost\n",
    "* Random Forrest\n",
    "* Linear SVC\n",
    "* Gaussian SVC"
   ]
  },
  {
   "cell_type": "code",
   "execution_count": 26,
   "metadata": {},
   "outputs": [],
   "source": [
    "k_fold = KFold(n_splits = 5)"
   ]
  },
  {
   "cell_type": "code",
   "execution_count": 28,
   "metadata": {},
   "outputs": [
    {
     "name": "stdout",
     "output_type": "stream",
     "text": [
      "LR: mean accuracy 90.456% - standard deviation 0.003349 - time 64.0924\n",
      "KNN: mean accuracy 96.687% - standard deviation 0.001597 - time 131.729\n",
      "CART: mean accuracy 80.136% - standard deviation 0.001483 - time 29.397\n",
      "AdaBoost: mean accuracy 64.748% - standard deviation 0.02706 - time 100.037\n",
      "RandomForrest: mean accuracy 88.534% - standard deviation 0.005505 - time 14.2353\n",
      "LinearSVC: mean accuracy 90.384% - standard deviation 0.003445 - time 130.893\n",
      "GaussianSVM: mean accuracy 97.007% - standard deviation 0.0008672 - time 99.7147\n"
     ]
    }
   ],
   "source": [
    "# this takes about 10 minutes\n",
    "\n",
    "results = []\n",
    "names = []\n",
    "scoring = 'accuracy'\n",
    "algorithms = []\n",
    "algorithms.append((\"LR\", LogisticRegression()))\n",
    "algorithms.append((\"KNN\", KNeighborsClassifier()))\n",
    "algorithms.append((\"CART\", DecisionTreeClassifier()))\n",
    "algorithms.append((\"AdaBoost\", AdaBoostClassifier()))\n",
    "algorithms.append((\"RandomForrest\", RandomForestClassifier()))\n",
    "algorithms.append((\"LinearSVC\", LinearSVC()))\n",
    "algorithms.append((\"GaussianSVM\", SVC()))\n",
    "for name, algorithm in algorithms:\n",
    "    t0=time()   \n",
    "    cv_results = cross_val_score(algorithm, X_tr, y_tr, cv= k_fold, scoring = scoring)\n",
    "    t1 = time() - t0\n",
    "    results.append(cv_results)\n",
    "    names.append(name)\n",
    "    print(\"{0}: mean accuracy {1:.3%} - standard deviation {2:.4} - time {3:n}\".format(name, cv_results.mean(), cv_results.std(), t1))"
   ]
  },
  {
   "cell_type": "markdown",
   "metadata": {},
   "source": [
    "Now that the base scores are ready lets us plot them on the graph"
   ]
  },
  {
   "cell_type": "code",
   "execution_count": 29,
   "metadata": {},
   "outputs": [
    {
     "data": {
      "image/png": "[encoded data removed]",
      "text/plain": [
       "<Figure size 720x576 with 1 Axes>"
      ]
     },
     "metadata": {},
     "output_type": "display_data"
    }
   ],
   "source": [
    "fig = plt.figure(figsize=(10,8))\n",
    "fig.suptitle('Algorithm Comparison')\n",
    "ax = fig.add_subplot(111)\n",
    "plt.boxplot(results)\n",
    "ax.set_xticklabels(names)\n",
    "plt.show()"
   ]
  },
  {
   "cell_type": "markdown",
   "metadata": {},
   "source": [
    "The best performing algorithms on our dataset in terms of accuracy are the Gaussian SVM (**97%**), the K-Nearest Neighbors (**96.7%**) and the Logistic Regression (**90.5%**). The LinearSVC (**90.4%**) is not very far behind the LR but we need to draw the line somewhere. We will now try to fine tune the LR, SVM and the KNN."
   ]
  },
  {
   "cell_type": "markdown",
   "metadata": {},
   "source": [
    "### Model improvement\n",
    "We select the Gaussian SVM, KNN and the Logisitc Regression for further fine tuning and improvement. We will use grid search on a number of parameters and again 5 fold cross validation.  \n",
    "We start with the Logisitic Regression."
   ]
  },
  {
   "cell_type": "markdown",
   "metadata": {},
   "source": [
    "### Logistics Regression"
   ]
  },
  {
   "cell_type": "code",
   "execution_count": 27,
   "metadata": {},
   "outputs": [],
   "source": [
    "# this is the list where we collect the fine tuned models\n",
    "models = []"
   ]
  },
  {
   "cell_type": "code",
   "execution_count": 31,
   "metadata": {},
   "outputs": [],
   "source": [
    "# THIS GRID SEARCH TAKES ABOUT 10 MINUTES.\n",
    "# IF YOU CANNOT WAIT PLEASE LOAD THE MODEL FROM THE DISC FROM THE NEXT CELL\n",
    "\n",
    "# HOWEVER, IF YOU WANT TO DO THE GRID SEARCH AGAIN PLEASE UNCOMMENT THE CODE BELOW\n",
    "\n",
    "# model = LogisticRegression()\n",
    "# parameters_grid = [{\n",
    "#     \"C\": [ 1, 10, 100, 1000, 10000],\n",
    "#     \"solver\": ['lbfgs','liblinear']\n",
    "# }]\n",
    "# model_fit = fit_model(model, parameters_grid, k_fold)\n"
   ]
  },
  {
   "cell_type": "code",
   "execution_count": 125,
   "metadata": {},
   "outputs": [],
   "source": [
    "# IF YOU HAVE DECIDED TO DO THE GRID SEARCH AGAIN AND HAVE UNCOMMENTED THE CELL ABOVE\n",
    "# PLEASE COMMENT THIS BECAUSE IT WILL OVERWRITE THE FITTED MODEL FROM ABOVE\n",
    "\n",
    "#model_fit = load(\"LogisticRegression-BACKUP.sav\")"
   ]
  },
  {
   "cell_type": "code",
   "execution_count": 126,
   "metadata": {},
   "outputs": [
    {
     "data": {
      "text/plain": [
       "{'model': 'LogisticRegression',\n",
       " 'number_of_observations_training': 29400,\n",
       " 'number_features_training': 87,\n",
       " 'explained_variance_after_pca': 0.9005709788011418,\n",
       " 'best_estimator': LogisticRegression(C=100, class_weight=None, dual=False, fit_intercept=True,\n",
       "           intercept_scaling=1, max_iter=100, multi_class='ovr', n_jobs=1,\n",
       "           penalty='l2', random_state=None, solver='lbfgs', tol=0.0001,\n",
       "           verbose=0, warm_start=False),\n",
       " 'best_params': {'C': 100, 'solver': 'lbfgs'},\n",
       " 'best_score': 0.9054761904761904,\n",
       " 'time_sec': 402.58581829071045,\n",
       " 'test_score': 0.9127777777777778}"
      ]
     },
     "execution_count": 126,
     "metadata": {},
     "output_type": "execute_result"
    }
   ],
   "source": [
    "model_fit"
   ]
  },
  {
   "cell_type": "code",
   "execution_count": 127,
   "metadata": {},
   "outputs": [
    {
     "name": "stdout",
     "output_type": "stream",
     "text": [
      "Mean cross-validated score of the best_estimator 90.548%\n"
     ]
    }
   ],
   "source": [
    "print(\"Mean cross-validated score of the best_estimator {0:.3%}\".format(model_fit[\"best_score\"]))"
   ]
  },
  {
   "cell_type": "markdown",
   "metadata": {},
   "source": [
    "Well, the cross validation score did not increase that much. Now let us see the score of the model with the test dataset."
   ]
  },
  {
   "cell_type": "code",
   "execution_count": 31,
   "metadata": {},
   "outputs": [
    {
     "name": "stdout",
     "output_type": "stream",
     "text": [
      "Test score 91.278%\n"
     ]
    }
   ],
   "source": [
    "best_model = model_fit['best_estimator']\n",
    "score = best_model.score(X_ts, y_ts)\n",
    "print(\"Test score {0:.3%}\".format(score))"
   ]
  },
  {
   "cell_type": "markdown",
   "metadata": {},
   "source": [
    "The test score is better on data never seen before which means that the model generalizes well. We will add the test score to our model dictionary where we keep information about the models."
   ]
  },
  {
   "cell_type": "code",
   "execution_count": 32,
   "metadata": {},
   "outputs": [],
   "source": [
    "model_fit[\"test_score\"] = score"
   ]
  },
  {
   "cell_type": "markdown",
   "metadata": {},
   "source": [
    "Lets us take a look at the confusion matrix to see how the classification occurred."
   ]
  },
  {
   "cell_type": "code",
   "execution_count": 33,
   "metadata": {
    "scrolled": false
   },
   "outputs": [
    {
     "data": {
      "image/png": "[encoded data removed]",
      "text/plain": [
       "<Figure size 648x648 with 2 Axes>"
      ]
     },
     "metadata": {},
     "output_type": "display_data"
    }
   ],
   "source": [
    "predictions = best_model.predict(X_ts)\n",
    "draw_confusion_marix(y_ts, predictions, score)"
   ]
  },
  {
   "cell_type": "code",
   "execution_count": 34,
   "metadata": {},
   "outputs": [
    {
     "name": "stdout",
     "output_type": "stream",
     "text": [
      "             precision    recall  f1-score   support\n",
      "\n",
      "          0       0.95      0.97      0.96      1186\n",
      "          1       0.95      0.97      0.96      1394\n",
      "          2       0.92      0.90      0.91      1271\n",
      "          3       0.91      0.86      0.88      1331\n",
      "          4       0.91      0.93      0.92      1190\n",
      "          5       0.86      0.86      0.86      1126\n",
      "          6       0.94      0.96      0.95      1327\n",
      "          7       0.94      0.92      0.93      1361\n",
      "          8       0.87      0.85      0.86      1197\n",
      "          9       0.87      0.89      0.88      1217\n",
      "\n",
      "avg / total       0.91      0.91      0.91     12600\n",
      "\n"
     ]
    }
   ],
   "source": [
    "print(classification_report(y_ts, predictions))"
   ]
  },
  {
   "cell_type": "code",
   "execution_count": 35,
   "metadata": {},
   "outputs": [],
   "source": [
    "# saving the model in th current directory and saving an excel file with the fined tuned model parameters\n",
    "persist_data(models, model_fit)"
   ]
  },
  {
   "cell_type": "markdown",
   "metadata": {},
   "source": [
    "### Gaussian SVM"
   ]
  },
  {
   "cell_type": "markdown",
   "metadata": {},
   "source": [
    "We are now going to fine tune our Gaussian SVM. According to this site http://yann.lecun.com/exdb/mnist/index.html, the best error for Gaussian SVM is 1.4%. That is we are aiming to reach accuracy of 98.6%. After fine tunnig our model we have reached accuracy 98.19%. We are not there yet but we are pretty close."
   ]
  },
  {
   "cell_type": "code",
   "execution_count": 40,
   "metadata": {},
   "outputs": [],
   "source": [
    "# THIS GRID SEARCH TAKES ABOUT 50 MINUTES.\n",
    "# IF YOU CANNOT WAIT PLEASE LOAD THE MODEL FROM THE DISC FROM THE NEXT CELL\n",
    "\n",
    "# HOWEVER, IF YOU WANT TO DO THE GRID SEARCH AGAIN PLEASE UNCOMMENT THE CODE BELOW\n",
    "\n",
    "# model = SVC(cache_size=1000)\n",
    "# parameters_grid = [{\n",
    "#     \"C\": [5, 10, 20],\n",
    "#     \"gamma\": [0.01, 0.05, 0.1]\n",
    "# }]\n",
    "# model_fit = fit_model(model, parameters_grid, k_fold)"
   ]
  },
  {
   "cell_type": "code",
   "execution_count": 128,
   "metadata": {},
   "outputs": [],
   "source": [
    "# IF YOU HAVE DECIDED TO DO THE GRID SEARCH AGAIN AND HAVE UNCOMMENTED THE CELL ABOVE\n",
    "# PLEASE COMMENT THIS BECAUSE IT WILL OVERWRITE THE FITTED MODEL FROM ABOVE\n",
    "\n",
    "#model_fit = load(\"SVC-BACKUP.sav\")"
   ]
  },
  {
   "cell_type": "code",
   "execution_count": 129,
   "metadata": {},
   "outputs": [
    {
     "data": {
      "text/plain": [
       "{'model': 'SVC',\n",
       " 'number_of_observations_training': 29400,\n",
       " 'number_features_training': 87,\n",
       " 'explained_variance_after_pca': 0.9005709788011418,\n",
       " 'best_estimator': SVC(C=5, cache_size=1000, class_weight=None, coef0=0.0,\n",
       "   decision_function_shape='ovr', degree=3, gamma=0.05, kernel='rbf',\n",
       "   max_iter=-1, probability=False, random_state=None, shrinking=True,\n",
       "   tol=0.001, verbose=False),\n",
       " 'best_params': {'C': 5, 'gamma': 0.05},\n",
       " 'best_score': 0.981326530612245,\n",
       " 'time_sec': 4048.7535219192505,\n",
       " 'test_score': 0.981904761904762}"
      ]
     },
     "execution_count": 129,
     "metadata": {},
     "output_type": "execute_result"
    }
   ],
   "source": [
    "model_fit"
   ]
  },
  {
   "cell_type": "code",
   "execution_count": 130,
   "metadata": {},
   "outputs": [
    {
     "name": "stdout",
     "output_type": "stream",
     "text": [
      "Mean cross-validated score of the best_estimator 98.133%\n"
     ]
    }
   ],
   "source": [
    "print(\"Mean cross-validated score of the best_estimator {0:.3%}\".format(model_fit[\"best_score\"]))"
   ]
  },
  {
   "cell_type": "markdown",
   "metadata": {},
   "source": [
    "Well, it took almost an hour to grid search and fit the model. The best validation score has improved compared to the cross validation score from the model selection part."
   ]
  },
  {
   "cell_type": "markdown",
   "metadata": {},
   "source": [
    "Now let us see the score of the model with the test dataset."
   ]
  },
  {
   "cell_type": "code",
   "execution_count": 39,
   "metadata": {},
   "outputs": [
    {
     "name": "stdout",
     "output_type": "stream",
     "text": [
      "Test score 98.190%\n"
     ]
    }
   ],
   "source": [
    "best_model = model_fit['best_estimator']\n",
    "score = best_model.score(X_ts, y_ts)\n",
    "print(\"Test score {0:.3%}\".format(score))"
   ]
  },
  {
   "cell_type": "markdown",
   "metadata": {},
   "source": [
    "We will add the test score to our model dictionary where we keep information about the models."
   ]
  },
  {
   "cell_type": "code",
   "execution_count": 40,
   "metadata": {},
   "outputs": [],
   "source": [
    "model_fit[\"test_score\"] = score"
   ]
  },
  {
   "cell_type": "markdown",
   "metadata": {},
   "source": [
    "Lets us take a look at the confusion matrix to see how the classification occurred."
   ]
  },
  {
   "cell_type": "code",
   "execution_count": 41,
   "metadata": {},
   "outputs": [
    {
     "data": {
      "image/png": "[encoded data removed]",
      "text/plain": [
       "<Figure size 648x648 with 2 Axes>"
      ]
     },
     "metadata": {},
     "output_type": "display_data"
    }
   ],
   "source": [
    "predictions = best_model.predict(X_ts)\n",
    "draw_confusion_marix(y_ts, predictions, score)"
   ]
  },
  {
   "cell_type": "code",
   "execution_count": 42,
   "metadata": {},
   "outputs": [
    {
     "name": "stdout",
     "output_type": "stream",
     "text": [
      "             precision    recall  f1-score   support\n",
      "\n",
      "          0       0.99      0.99      0.99      1186\n",
      "          1       0.99      0.99      0.99      1394\n",
      "          2       0.99      0.99      0.99      1271\n",
      "          3       0.97      0.97      0.97      1331\n",
      "          4       0.98      0.98      0.98      1190\n",
      "          5       0.98      0.98      0.98      1126\n",
      "          6       0.99      0.99      0.99      1327\n",
      "          7       0.98      0.98      0.98      1361\n",
      "          8       0.97      0.98      0.97      1197\n",
      "          9       0.98      0.97      0.97      1217\n",
      "\n",
      "avg / total       0.98      0.98      0.98     12600\n",
      "\n"
     ]
    }
   ],
   "source": [
    "print(classification_report(y_ts, predictions))"
   ]
  },
  {
   "cell_type": "code",
   "execution_count": 43,
   "metadata": {},
   "outputs": [],
   "source": [
    "# saving the model in the current directory and saving an excel file with the fined tuned model parameters\n",
    "persist_data(models, model_fit)"
   ]
  },
  {
   "cell_type": "markdown",
   "metadata": {},
   "source": [
    "### K Nearest Neihbors"
   ]
  },
  {
   "cell_type": "markdown",
   "metadata": {},
   "source": [
    "Last but not least we will try to improve the K-Nearest Neighbors algorithm."
   ]
  },
  {
   "cell_type": "code",
   "execution_count": 49,
   "metadata": {},
   "outputs": [],
   "source": [
    "# THIS GRID SEARCH TAKES ABOUT 10 MINUTES.\n",
    "# IF YOU CANNOT WAIT PLEASE LOAD THE MODEL FROM THE DISC FROM THE NEXT CELL\n",
    "\n",
    "# HOWEVER, IF YOU WANT TO DO THE GRID SEARCH AGAIN PLEASE UNCOMMENT THE CODE BELOW\n",
    "\n",
    "# model = KNeighborsClassifier()\n",
    "# k = np.arange(3,10,2)\n",
    "\n",
    "# parameters_grid = [{\n",
    "#     'n_neighbors':k\n",
    "# }]\n",
    "\n",
    "# model_fit = fit_model(model, parameters_grid, k_fold)"
   ]
  },
  {
   "cell_type": "code",
   "execution_count": 131,
   "metadata": {},
   "outputs": [],
   "source": [
    "# IF YOU HAVE DECIDED TO DO THE GRID SEARCH AGAIN AND HAVE UNCOMMENTED THE CELL ABOVE\n",
    "# PLEASE COMMENT THIS BECAUSE IT WILL OVERWRITE THE FITTED MODEL FROM ABOVE\n",
    "\n",
    "model_fit = load(\"KNeighborsClassifier-BACKUP.sav\")"
   ]
  },
  {
   "cell_type": "code",
   "execution_count": 132,
   "metadata": {},
   "outputs": [
    {
     "data": {
      "text/plain": [
       "{'model': 'KNeighborsClassifier',\n",
       " 'number_of_observations_training': 29400,\n",
       " 'number_features_training': 87,\n",
       " 'explained_variance_after_pca': 0.9005709788011418,\n",
       " 'best_estimator': KNeighborsClassifier(algorithm='auto', leaf_size=30, metric='minkowski',\n",
       "            metric_params=None, n_jobs=1, n_neighbors=3, p=2,\n",
       "            weights='uniform'),\n",
       " 'best_params': {'n_neighbors': 3},\n",
       " 'best_score': 0.9672789115646259,\n",
       " 'time_sec': 2179.005108356476,\n",
       " 'test_score': 0.9705555555555555}"
      ]
     },
     "execution_count": 132,
     "metadata": {},
     "output_type": "execute_result"
    }
   ],
   "source": [
    "model_fit"
   ]
  },
  {
   "cell_type": "code",
   "execution_count": 133,
   "metadata": {},
   "outputs": [
    {
     "name": "stdout",
     "output_type": "stream",
     "text": [
      "Mean cross-validated score of the best_estimator 96.728%\n"
     ]
    }
   ],
   "source": [
    "print(\"Mean cross-validated score of the best_estimator {0:.3%}\".format(model_fit[\"best_score\"]))"
   ]
  },
  {
   "cell_type": "markdown",
   "metadata": {},
   "source": [
    "Now let us see the score of the model with the test dataset."
   ]
  },
  {
   "cell_type": "code",
   "execution_count": 47,
   "metadata": {},
   "outputs": [
    {
     "name": "stdout",
     "output_type": "stream",
     "text": [
      "Test score 97.056%\n"
     ]
    }
   ],
   "source": [
    "best_model = model_fit['best_estimator']\n",
    "score = best_model.score(X_ts, y_ts)\n",
    "print(\"Test score {0:.3%}\".format(score))"
   ]
  },
  {
   "cell_type": "markdown",
   "metadata": {},
   "source": [
    "Below we add the test score to the dictionary with the models."
   ]
  },
  {
   "cell_type": "code",
   "execution_count": 48,
   "metadata": {},
   "outputs": [],
   "source": [
    "model_fit[\"test_score\"] = score"
   ]
  },
  {
   "cell_type": "markdown",
   "metadata": {},
   "source": [
    "Lets us take a look at the confusion matrix to see how the classification occurred."
   ]
  },
  {
   "cell_type": "code",
   "execution_count": 49,
   "metadata": {},
   "outputs": [
    {
     "data": {
      "image/png": "[encoded data removed]",
      "text/plain": [
       "<Figure size 648x648 with 2 Axes>"
      ]
     },
     "metadata": {},
     "output_type": "display_data"
    }
   ],
   "source": [
    "predictions = best_model.predict(X_ts)\n",
    "draw_confusion_marix(y_ts, predictions, score)"
   ]
  },
  {
   "cell_type": "code",
   "execution_count": 50,
   "metadata": {},
   "outputs": [
    {
     "name": "stdout",
     "output_type": "stream",
     "text": [
      "             precision    recall  f1-score   support\n",
      "\n",
      "          0       0.98      0.99      0.99      1186\n",
      "          1       0.97      0.99      0.98      1394\n",
      "          2       0.98      0.97      0.97      1271\n",
      "          3       0.96      0.96      0.96      1331\n",
      "          4       0.98      0.97      0.98      1190\n",
      "          5       0.96      0.96      0.96      1126\n",
      "          6       0.98      0.99      0.99      1327\n",
      "          7       0.96      0.98      0.97      1361\n",
      "          8       0.98      0.93      0.95      1197\n",
      "          9       0.95      0.97      0.96      1217\n",
      "\n",
      "avg / total       0.97      0.97      0.97     12600\n",
      "\n"
     ]
    }
   ],
   "source": [
    "print(classification_report(y_ts, predictions))"
   ]
  },
  {
   "cell_type": "code",
   "execution_count": 51,
   "metadata": {},
   "outputs": [],
   "source": [
    "# saving the model in th current directory and saving an excel file with the fined tuned model parameters\n",
    "persist_data(models, model_fit)"
   ]
  },
  {
   "cell_type": "markdown",
   "metadata": {},
   "source": [
    "### Best models comparison"
   ]
  },
  {
   "cell_type": "code",
   "execution_count": 52,
   "metadata": {},
   "outputs": [
    {
     "name": "stdout",
     "output_type": "stream",
     "text": [
      "SUMMARY:\n",
      "-------------\n",
      "LogisticRegression - test score 91.28% - features 87 - observations 29400 - grid search time 402.586s\n",
      "SVC - test score 98.19% - features 87 - observations 29400 - grid search time 4048.75s\n",
      "KNeighborsClassifier - test score 97.06% - features 87 - observations 29400 - grid search time 2179.01s\n"
     ]
    }
   ],
   "source": [
    "print(\"SUMMARY:\")\n",
    "print(\"-------------\")\n",
    "for model in models:\n",
    "    \n",
    "    print(\"{0} - test score {1:.2%} - features {2} - observations {3} - grid search time {4:n}s\"\n",
    "          .format(model[\"model\"], model[\"test_score\"], model[\"number_features_training\"], model[\"number_of_observations_training\"], model[\"time_sec\"]))"
   ]
  },
  {
   "cell_type": "markdown",
   "metadata": {},
   "source": [
    "The best model for our dataset is the Gaussian SVM with a score from the test set of 98% but it took 1 hour to be trained. On the other hand the K-Nearest Neighbors scored very close 97% but it took only 30\n",
    "minutes to train. The Logistic Regression is far behind. I would look for further improvements of the KNN and the SVM models."
   ]
  },
  {
   "cell_type": "markdown",
   "metadata": {},
   "source": [
    "### Further improvements with feature selections"
   ]
  },
  {
   "cell_type": "markdown",
   "metadata": {},
   "source": [
    " Now that we have chosen the best models and have performed grid search we can look for other ways to improve our models. We go back to the PCA step and try to improve the models by grid search with different numbers of features. We have arbitrarily chosen to retain 90% of the variance thus getting 87 features. We can now test the SVM and KNN models with fewer and also a bit more features.\n",
    " \n",
    " For example, we can perform  PCA aiming for explained variance of 60%, 70%, 80% and 95%. Thus, we will get 5 sets of features. We can again run the grid search for the SVM and KNN and evaluate their scores. \n",
    " \n",
    " We will rerun the KNN because it takes less time. But the procedure to rerun SVM will be the same."
   ]
  },
  {
   "cell_type": "code",
   "execution_count": 93,
   "metadata": {},
   "outputs": [],
   "source": [
    "k = np.arange(3,8,2)\n",
    "models_features = [] # a collection with the fine tuned models\n",
    "model = None\n",
    "expl_vars = [0.60, 0.70, 0.80, 0.90, 0.95] # target explained variance levels\n",
    "\n",
    "algorithms = [] # a collection with the models that we will evaluate\n",
    "\n",
    "# algorithms.append((LogisticRegression(), [{\n",
    "#      \"C\": [ 1, 10, 100, 1000, 10000],\n",
    "#      \"solver\": ['lbfgs','liblinear']\n",
    "#  }] ))\n",
    "\n",
    "algorithms.append((KNeighborsClassifier(), [{\n",
    "    'n_neighbors':k\n",
    "}]))\n",
    "\n",
    "# algorithms.append((SVC(),[{\n",
    "#     \"C\": [5, 10, 20],\n",
    "#     \"gamma\": [0.01, 0.05, 0.1]\n",
    "# }])) # we will not process this because it takes too much time"
   ]
  },
  {
   "cell_type": "code",
   "execution_count": 94,
   "metadata": {},
   "outputs": [
    {
     "data": {
      "text/plain": [
       "[(KNeighborsClassifier(algorithm='auto', leaf_size=30, metric='minkowski',\n",
       "             metric_params=None, n_jobs=1, n_neighbors=5, p=2,\n",
       "             weights='uniform'), [{'n_neighbors': array([3, 5, 7])}])]"
      ]
     },
     "execution_count": 94,
     "metadata": {},
     "output_type": "execute_result"
    }
   ],
   "source": [
    "algorithms"
   ]
  },
  {
   "cell_type": "code",
   "execution_count": 86,
   "metadata": {},
   "outputs": [
    {
     "name": "stdout",
     "output_type": "stream",
     "text": [
      "Performing PCA ...\n",
      "Explained variance 60.85% with 17 components\n",
      "Splitting training and test set...\n",
      "\n",
      "Performing Grid Search on: KNeighborsClassifier with 17 features and explained variance 60.9%\n",
      "Ready\n",
      "KNeighborsClassifier - best score 95.64% - test score 96.23% - grid search time 136.212s\n",
      "\n",
      "Performing PCA ...\n",
      "Explained variance 70.17% with 26 components\n",
      "Splitting training and test set...\n",
      "\n",
      "Performing Grid Search on: KNeighborsClassifier with 26 features and explained variance 70.2%\n",
      "Ready\n",
      "KNeighborsClassifier - best score 96.79% - test score 97.06% - grid search time 299.839s\n",
      "\n",
      "Performing PCA ...\n",
      "Explained variance 80.03% with 43 components\n",
      "Splitting training and test set...\n",
      "\n",
      "Performing Grid Search on: KNeighborsClassifier with 43 features and explained variance 80.0%\n",
      "Ready\n",
      "KNeighborsClassifier - best score 97.16% - test score 96.90% - grid search time 681.057s\n",
      "\n",
      "Performing PCA ...\n",
      "Explained variance 90.06% with 87 components\n",
      "Splitting training and test set...\n",
      "\n",
      "Performing Grid Search on: KNeighborsClassifier with 87 features and explained variance 90.1%\n",
      "Ready\n",
      "KNeighborsClassifier - best score 96.76% - test score 96.90% - grid search time 1658.91s\n",
      "\n",
      "Performing PCA ...\n",
      "Explained variance 95.04% with 154 components\n",
      "Splitting training and test set...\n",
      "\n",
      "Performing Grid Search on: KNeighborsClassifier with 154 features and explained variance 95.0%\n",
      "Ready\n",
      "KNeighborsClassifier - best score 96.48% - test score 96.58% - grid search time 2510.31s\n",
      "\n"
     ]
    },
    {
     "data": {
      "text/plain": [
       "['models_features.sav']"
      ]
     },
     "execution_count": 86,
     "metadata": {},
     "output_type": "execute_result"
    }
   ],
   "source": [
    "# WARNING !!! This takes a lot of time \n",
    "\n",
    "# You can load the data from the file in the next cell \n",
    "\n",
    "# Performing PCA to select different sets of features for 5 target explained variance levels\n",
    "\n",
    "# for variance in expl_vars:\n",
    "    \n",
    "#     print(\"Performing PCA ...\")\n",
    "    \n",
    "#     pca_features = PCA(variance).fit(features_scaled)\n",
    "    \n",
    "#     features_scaled_pca = pca_features.transform(features_scaled)\n",
    "    \n",
    "#     explained_variance = pca_features.explained_variance_ratio_.sum()\n",
    "    \n",
    "#     components = pca_features.n_components_\n",
    "    \n",
    "#     print(\"Explained variance {0:.2%} with {1} components\".format(explained_variance, components))\n",
    "    \n",
    "#     print(\"Splitting training and test set...\")\n",
    "    \n",
    "#     X_tr, X_ts, y_tr, y_ts = train_test_split(features_scaled_pca, labels, test_size = 0.30)    \n",
    "    \n",
    "#     print()\n",
    "    \n",
    "#     for algorithm, parameters_grid in algorithms:\n",
    "        \n",
    "#         print(\"Performing Grid Search on: {0} with {1} features and explained variance {2:.1%}\".format(algorithm.__class__.__name__, components,  explained_variance))       \n",
    "        \n",
    "#         model = algorithm      \n",
    "        \n",
    "#         model = fit_model(model, parameters_grid, k_fold)\n",
    "        \n",
    "#         best_model = model['best_estimator']\n",
    "        \n",
    "#         score = best_model.score(X_ts, y_ts)\n",
    "        \n",
    "#         model[\"test_score\"] = score\n",
    "        \n",
    "#         print(\"Ready\")\n",
    "        \n",
    "#         print(\"{0} - best score {1:.2%} - test score {2:.2%} - grid search time {3:n}s\"\n",
    "#           .format(model[\"model\"], model[\"best_score\"], model[\"test_score\"], model[\"time_sec\"]))\n",
    "        \n",
    "#         models_features.append(model)          \n",
    "        \n",
    "#         print()\n",
    "# dump(models_features,\"models_features.sav\")\n"
   ]
  },
  {
   "cell_type": "code",
   "execution_count": 99,
   "metadata": {},
   "outputs": [],
   "source": [
    "# You can load the models here. Please uncomment and run\n",
    "#models_features = load('models_features.sav')"
   ]
  },
  {
   "cell_type": "code",
   "execution_count": 114,
   "metadata": {},
   "outputs": [
    {
     "name": "stdout",
     "output_type": "stream",
     "text": [
      "Features: 17 -- Cross validated accuracy 95.64% -- Test accuracy 96.23%\n",
      "Features: 26 -- Cross validated accuracy 96.79% -- Test accuracy 97.06%\n",
      "Features: 43 -- Cross validated accuracy 97.16% -- Test accuracy 96.90%\n",
      "Features: 87 -- Cross validated accuracy 96.76% -- Test accuracy 96.90%\n",
      "Features: 154 -- Cross validated accuracy 96.48% -- Test accuracy 96.58%\n"
     ]
    }
   ],
   "source": [
    "training_scores = []\n",
    "testing_scores =[]\n",
    "features = []\n",
    "for m in models_features:\n",
    "    training_scores.append(m[\"best_score\"])\n",
    "    testing_scores.append(m[\"test_score\"])\n",
    "    features.append(m[\"number_features_training\"])\n",
    "    print(\"Features: {0} -- Cross validated accuracy {1:.2%} -- Test accuracy {2:.2%}\".format(m[\"number_features_training\"], m[\"best_score\"], m[\"test_score\"]))"
   ]
  },
  {
   "cell_type": "code",
   "execution_count": 116,
   "metadata": {},
   "outputs": [
    {
     "data": {
      "image/png": "[encoded data removed]",
      "text/plain": [
       "<Figure size 432x288 with 1 Axes>"
      ]
     },
     "metadata": {},
     "output_type": "display_data"
    }
   ],
   "source": [
    "plt.plot(features,training_scores, \"red\", label = \"cross validated mean score\")\n",
    "plt.plot(features,testing_scores, \"green\", label = \"test score\")\n",
    "plt.xlabel(\"Number of features\")\n",
    "plt.ylabel(\"Accuracy\")\n",
    "plt.title(\"Mean cross validated and test accuracy vs features\")\n",
    "plt.grid(True)\n",
    "plt.legend()\n",
    "plt.show()"
   ]
  },
  {
   "cell_type": "markdown",
   "metadata": {},
   "source": [
    "We see that there is no point in increasing the features above 26 for the KNN model. If we keep the number of features 26 which corresponds to explained variance of 70% we are able to achieve test accuracy of 97%. Increasing the number of features above 26 does not bring any benefits and may lead to overfitting. \n"
   ]
  },
  {
   "cell_type": "markdown",
   "metadata": {},
   "source": [
    "<a id='note'></a>\n",
    "### Important remark\n",
    "**I have now re-run the whole notebook using the already trained and saved models (loading them from the respective files) and have noticed that the accuracy has improved. The reason for this is that with each run of the notebook there is a new split of the features to training and testing sets.   Each new testing set may contain  some data on which the models have already been trained. Thus, the accuracy increases artificially because the model has already seen some of the testing data. The most reliable way to evaluate the accuracy is to test the models right after the training when the training and the test sets are still well separated or to record the testing set on file. When loading the models from files they should be tested with the same test set that was set apart from the training set on which they had been trained.**"
   ]
  },
  {
   "cell_type": "markdown",
   "metadata": {},
   "source": [
    "### Useful links:\n",
    "1. https://www.kaggle.com/vzocca/simple-mnist-python-code/data\n",
    "2. https://www.kaggle.com/ddmngml/pca-and-svm-on-mnist-dataset/data\n",
    "3. https://towardsdatascience.com/logistic-regression-using-python-sklearn-numpy-mnist-handwriting-recognition-matplotlib-a6b31e2b166a\n",
    "4.https://towardsdatascience.com/pca-using-python-scikit-learn-e653f8989e60\n",
    "5. Machine Learning Mastery with Python, Jason Brownlee  "
   ]
  },
  {
   "cell_type": "code",
   "execution_count": null,
   "metadata": {},
   "outputs": [],
   "source": []
  }
 ],
 "metadata": {
  "kernelspec": {
   "display_name": "Python 3",
   "language": "python",
   "name": "python3"
  },
  "language_info": {
   "codemirror_mode": {
    "name": "ipython",
    "version": 3
   },
   "file_extension": ".py",
   "mimetype": "text/x-python",
   "name": "python",
   "nbconvert_exporter": "python",
   "pygments_lexer": "ipython3",
   "version": "3.6.5"
  }
 },
 "nbformat": 4,
 "nbformat_minor": 2
}
